{
 "cells": [
  {
   "cell_type": "code",
   "execution_count": 96,
   "id": "0168c93d",
   "metadata": {},
   "outputs": [],
   "source": [
    "import nltk\n",
    "import random\n",
    "from sklearn.feature_extraction.text import TfidfVectorizer\n",
    "from sklearn.linear_model import LogisticRegression\n",
    "import pickle"
   ]
  },
  {
   "cell_type": "code",
   "execution_count": 97,
   "id": "56528ceb",
   "metadata": {},
   "outputs": [
    {
     "name": "stderr",
     "output_type": "stream",
     "text": [
      "[nltk_data] Downloading package punkt to\n",
      "[nltk_data]     C:\\Users\\hpcnd\\AppData\\Roaming\\nltk_data...\n",
      "[nltk_data]   Package punkt is already up-to-date!\n"
     ]
    },
    {
     "data": {
      "text/plain": [
       "True"
      ]
     },
     "execution_count": 97,
     "metadata": {},
     "output_type": "execute_result"
    }
   ],
   "source": [
    "nltk.download(\"punkt\")"
   ]
  },
  {
   "cell_type": "code",
   "execution_count": 98,
   "id": "1a907b80",
   "metadata": {},
   "outputs": [],
   "source": [
    "data = {\n",
    "    \"intents\": [\n",
    "    {\n",
    "        \"tag\": \"thanks\",\n",
    "        \"patterns\": [\"Thank you\", \"Thanks\", \"Thanks a lot\", \"I appreciate it\"],\n",
    "        \"responses\": [\"You're welcome\", \"No problem\", \"Glad I could help\"]\n",
    "    },\n",
    "    {\n",
    "        \"tag\": \"about\",\n",
    "        \"patterns\": [\"What can you do\",\"Who are you\", \"What are you\", \"What is your purpose\"],\n",
    "        \"responses\": [\"I am a chatbot\", \"My purpose is to assist you\", \"I can answer questions and provide assistance\"]\n",
    "    },\n",
    "    {\n",
    "        \"tag\": \"help\",\n",
    "        \"patterns\": [\"Help\", \"I need help\", \"Can you help me\", \"What should I do\"],\n",
    "        \"responses\": [\"Sure, what do you need help with?\", \"I'm here to help. What's the problem?\", \"How can I assist you?\"]\n",
    "    },\n",
    "    {\n",
    "        \"tag\": \"age\",\n",
    "        \"patterns\": [\"How old are you\", \"What's your age\"],\n",
    "        \"responses\": [\"I don't have an age. I'm a chatbot.\", \"I was just born in the digital world.\", \"Age is just a number for me.\"]\n",
    "    },\n",
    "    {\n",
    "        \"tag\": \"weather\",\n",
    "        \"patterns\": [\"What's the weather like\", \"How's the weather today\"],\n",
    "        \"responses\": [\"I'm sorry, I cannot provide real-time weather information.\", \"You can check the weather on a weather app or website.\"]\n",
    "    },\n",
    "    {\n",
    "        \"tag\": \"budget\",\n",
    "        \"patterns\": [\"How can I make a budget\", \"What's a good budgeting strategy\", \"How do I create a budget\"],\n",
    "        \"responses\": [\"To make a budget, start by tracking your income and expenses. Then, allocate your income towards essential expenses like rent, food, and bills. Next, allocate some of your income towards savings and debt repayment. Finally, allocate the remainder of your income towards discretionary expenses like entertainment and hobbies.\", \"A good budgeting strategy is to use the 50/30/20 rule. This means allocating 50% of your income towards essential expenses, 30% towards discretionary expenses, and 20% towards savings and debt repayment.\", \"To create a budget, start by setting financial goals for yourself. Then, track your income and expenses for a few months to get a sense of where your money is going. Next, create a budget by allocating your income towards essential expenses, savings and debt repayment, and discretionary expenses.\"]\n",
    "    },\n",
    "    {\n",
    "        \"tag\": \"credit_score\",\n",
    "        \"patterns\": [\"What is a credit score\", \"How do I check my credit score\", \"How can I improve my credit score\"],\n",
    "        \"responses\": [\"A credit score is a number that represents your creditworthiness. It is based on your credit history and is used by lenders to determine whether or not to lend you money. The higher your credit score, the more likely you are to be approved for credit.\", \"You can check your credit score for free on several websites such as Credit Karma and Credit Sesame.\"]\n",
    "    },\n",
    "    {\"tag\": \"greetings\",\n",
    "     \"patterns\": [\"Hello there\", \"Hey, How are you\", \"Hey\", \"Hi\", \"Hello\", \"Anybody\", \"Hey there\"],\n",
    "     \"responses\": [\"Hello, I'm your helping bot\", \"Hey it's good to see you\", \"Hi there, how can I help you?\"],\n",
    "     \"context\": [\"\"]\n",
    "    },\n",
    "    {\"tag\": \"thanks\",\n",
    "     \"patterns\": [\"Thanks for your quick response\", \"Thank you for providing the valuable information\", \"Awesome, thanks for helping\"],\n",
    "     \"responses\": [\"Happy to help you\", \"Thanks for reaching out to me\", \"It's My pleasure to help you\"],\n",
    "     \"context\": [\"\"]\n",
    "    },\n",
    "    {\"tag\": \"no_answer\",\n",
    "     \"patterns\": [],\n",
    "     \"responses\": [\"Sorry, Could you repeat again\", \"provide me more info\", \"can't understand you\"],\n",
    "     \"context\": [\"\"]\n",
    "    },\n",
    "    {\"tag\": \"help\",\n",
    "     \"patterns\": [\"What help you can do?\", \"What are the helps you provide?\", \"How you could help me\",],\n",
    "     \"responses\": [ \"i can help you by generate new storys,play game with you,and also i can help you by giving song recommendation\"],\n",
    "     \"context\": [\"\"]\n",
    "    },\n",
    "    {\"tag\": \"goodbye\",\n",
    "        \"patterns\": [\"bye bye\", \"Nice to chat with you\", \"Bye\", \"See you later buddy\", \"Goodbye\"],\n",
    "        \"responses\": [ \"bye bye, thanks for reaching\", \"Have a nice day there\", \"See you later\"],\n",
    "        \"context\": [\"\"]\n",
    "    },\n",
    "     {\n",
    "        \"tag\": \"greeting\",\n",
    "        \"patterns\": [\"Hi\", \"Hello\", \"Hey\", \"Hi there\", \"Morning\", \"Evening\"],\n",
    "        \"responses\": [\n",
    "            \"Hi, my name is Nava. How can I help you?\",\n",
    "            \"Hello! I'm Nava. What can I do for you today?\",\n",
    "            \"Hey there! How can I assist you?\",\n",
    "            \"Hello! I'm Nava. How can I assist you today?\",\n",
    "            \"Good morning! How can I help you?\",\n",
    "            \"Good evening! What can I do for you today?\"\n",
    "        ]\n",
    "    },\n",
    "    {\n",
    "        \"tag\": \"goodbye\",\n",
    "        \"patterns\": [\"Bye\", \"See you\", \"Goodbye\", \"Talk to you later\", \"I'm leaving\", \"Take care\"],\n",
    "        \"responses\": [\n",
    "            \"Goodbye! Have a great day!\",\n",
    "            \"See you later! Take care!\",\n",
    "            \"Goodbye! If you need any more help, just ask.\",\n",
    "            \"Sure, talk to you later! Have a good day!\",\n",
    "            \"Alright, goodbye! Feel free to return if you need any help.\",\n",
    "            \"You too! Bye!\"\n",
    "        ]\n",
    "    },\n",
    "    {\n",
    "        \"tag\": \"name\",\n",
    "        \"patterns\": [\"Name\", \"your name\", \"what is your name\"],\n",
    "        \"responses\": [\"My name is Nava.\"]\n",
    "    },\n",
    "    {\n",
    "        \"tag\": \"password\",\n",
    "        \"patterns\": [\"password\"],\n",
    "        \"responses\": [\"To reset your password, go to the login page and click on 'Forgot Password'.\"]\n",
    "    },\n",
    "    {\n",
    "        \"tag\": \"location\",\n",
    "        \"patterns\": [\"Where are you located\",\"place\",\"orgin\",\"location\"],\n",
    "        \"responses\": [\"We are based in KBMGCT Thalassery.\"]\n",
    "    },\n",
    "    {\n",
    "        \"tag\": \"support\",\n",
    "        \"patterns\": [\"support\", \"contact\",\"what is your contact number\",\"contact number\",\"your support\"],\n",
    "        \"responses\": [\n",
    "            \"You can contact support by emailing navachatbot@gmail.com or calling 7909192967.\"\n",
    "        ]\n",
    "    },\n",
    "    {\n",
    "        \"tag\": \"hours\",\n",
    "        \"patterns\": [\"What are your hours of operation?\"],\n",
    "        \"responses\": [\"I am only available when my creator is online.\"]\n",
    "    },\n",
    "    {\n",
    "        \"tag\": \"wellbeing\",\n",
    "        \"patterns\": [\"How are you\"],\n",
    "        \"responses\": [\"I'm just a bot, but I'm here to help you!\"]\n",
    "    },\n",
    "    {\n",
    "        \"tag\": \"weather\",\n",
    "        \"patterns\": [\"What's the weather like?\", \"Tell me about the weather\"],\n",
    "        \"responses\": [\n",
    "            \"I don't have live weather data, but you can check a weather website or app.\"\n",
    "        ]\n",
    "    },\n",
    "    {\n",
    "        \"tag\": \"joke\",\n",
    "        \"patterns\": [\"Tell me a joke\",\"joke\",\"joke please\",\"tell me comedy\",\"comedy\",\"Can you tell me a joke?\", \"I want to hear a joke\", \"Make me laugh\"],\n",
    "        \"responses\": [\n",
    "            \"Why don't scientists trust atoms? Because they make up everything!\",\n",
    "            \"Why don't scientists trust atoms? Because they make up everything!\",\n",
    "            \"Why did the scarecrow win an award? Because he was outstanding in his field!\",\n",
    "            \"Why don't skeletons fight each other? They don't have the guts!\",\n",
    "            \"Why did the bicycle fall over? Because it was two-tired!\",\n",
    "            \"What do you call cheese that isn't yours? Nacho cheese!\"\n",
    "        ]\n",
    "    },\n",
    "    {\n",
    "        \"tag\": \"preferences\",\n",
    "        \"patterns\": [\"What's your favorite color?\", \"colour\"],\n",
    "        \"responses\": [\n",
    "            \"As a bot, I don't have preferences, but I think blue is quite nice!\"\n",
    "        ]\n",
    "    },\n",
    "    {\n",
    "        \"tag\": \"hobbies\",\n",
    "        \"patterns\": [\"Do you have any hobbies?\"],\n",
    "        \"responses\": [\n",
    "            \"I enjoy helping people find information and answering questions!\"\n",
    "        ]\n",
    "    },\n",
    "    {\n",
    "        \"tag\": \"movie\",\n",
    "        \"patterns\": [\"What's your favorite movie?\"],\n",
    "        \"responses\": [\n",
    "            \"I don't watch movies, but I've heard The Matrix is pretty interesting!\"\n",
    "        ]\n",
    "    },\n",
    "    {\n",
    "        \"tag\": \"game\",\n",
    "        \"patterns\": [\"play a game\", \"Game\", \"play\",\"hangman\",\"20 questions\",\"algebra\",\"quiz\"],\n",
    "        \"responses\": [\n",
    "            \"Sure! How about a game of hangman, a game of questions, or an algebra problem?\",\n",
    "            \"Great! Do you want to play algebra, hangman, or 20 questions?\"\n",
    "        ]\n",
    "    },\n",
    "    {\n",
    "        \"tag\": \"story\",\n",
    "        \"patterns\": [\"Story\", \"generate a story?\", \"Create a fantasy story\", \"I want a mystery story\"],\n",
    "        \"responses\": [\n",
    "            \"Story \",\n",
    "            \"Sure! What genre of story would you like? Fantasy, mystery, or adventure?\",\n",
    "            \"In a magical kingdom, there was a young wizard who...\",\n",
    "            \n",
    "        ]\n",
    "    },\n",
    "    {\n",
    "        \"tag\": \"music\",\n",
    "        \"patterns\": [\"Recommend me some music\", \"Music\", \"song\", \"Suggest a rock song\", \"I need some jazz music\"],\n",
    "        \"responses\": [\n",
    "            \"Sure! What genre do you like? Pop, rock, jazz, or classical?\",\n",
    "            \"I can recommend some songs. What genre are you in the mood for?\",\n",
    "            \"I can suggest some songs. What genre are you in the mood for?\",\n",
    "            \"just talk me ,then i will recommend you music\"\n",
    "            \"I recommend 'Take Five' by Dave Brubeck.\"\n",
    "        ]\n",
    "    },\n",
    "    {\n",
    "        \"tag\": \"order\",\n",
    "        \"patterns\": [\"Can you help me with my order?\", \"I need help with my account\", \"I forgot my username\"],\n",
    "        \"responses\": [\n",
    "            \"Sure, I can help with your order. Please provide your order number.\",\n",
    "            \"I'd be happy to help with your account. What seems to be the problem?\",\n",
    "            \"To recover your username, click on 'Forgot Username' on the login page and follow the instructions.\"\n",
    "        ]\n",
    "    },\n",
    "    {\n",
    "        \"tag\": \"payment\",\n",
    "        \"patterns\": [\"What payment methods do you accept?\"],\n",
    "        \"responses\": [\n",
    "            \"We accept credit cards, debit cards, and PayPal.\"\n",
    "        ]\n",
    "    },\n",
    "    {\n",
    "        \"tag\": \"settings\",\n",
    "        \"patterns\": [\"How do I change my account settings?\"],\n",
    "        \"responses\": [\n",
    "            \"To change your account settings, log in to your account and go to the settings page.\"\n",
    "        ]\n",
    "    },\n",
    "    {\n",
    "        \"tag\": \"gift_cards\",\n",
    "        \"patterns\": [\"Do you offer gift cards?\"],\n",
    "        \"responses\": [\n",
    "            \"Yes, we offer gift cards. You can purchase them on our website.\"\n",
    "        ]\n",
    "    }\n",
    "    \n",
    "]\n",
    "}\n",
    "    "
   ]
  },
  {
   "cell_type": "code",
   "execution_count": 99,
   "id": "622b2c3a",
   "metadata": {},
   "outputs": [
    {
     "name": "stderr",
     "output_type": "stream",
     "text": [
      "C:\\Users\\hpcnd\\AppData\\Local\\Packages\\PythonSoftwareFoundation.Python.3.11_qbz5n2kfra8p0\\LocalCache\\local-packages\\Python311\\site-packages\\sklearn\\feature_extraction\\text.py:521: UserWarning: The parameter 'token_pattern' will not be used since 'tokenizer' is not None'\n",
      "  warnings.warn(\n"
     ]
    }
   ],
   "source": [
    "patterns = []\n",
    "tags = []\n",
    "\n",
    "for intent in data[\"intents\"]:\n",
    "    for pattern in intent[\"patterns\"]:\n",
    "        patterns.append(pattern)\n",
    "        tags.append(intent[\"tag\"])\n",
    "\n",
    "# Vectorize the patterns\n",
    "vectorizer = TfidfVectorizer(tokenizer=nltk.word_tokenize, lowercase=True)\n",
    "x_train = vectorizer.fit_transform(patterns)\n",
    "y_train = tags"
   ]
  },
  {
   "cell_type": "code",
   "execution_count": 100,
   "id": "5dfdcdb8",
   "metadata": {},
   "outputs": [
    {
     "name": "stdout",
     "output_type": "stream",
     "text": [
      "Model and vectorizer saved successfully!\n"
     ]
    }
   ],
   "source": [
    "# Train the model\n",
    "model = LogisticRegression()\n",
    "model.fit(x_train, y_train)\n",
    "\n",
    "# Save the trained model and vectorizer\n",
    "with open(\"chatbot_model.pkl\", \"wb\") as model_file:\n",
    "    pickle.dump(model, model_file)\n",
    "\n",
    "with open(\"vectorizer.pkl\", \"wb\") as vectorizer_file:\n",
    "    pickle.dump(vectorizer, vectorizer_file)\n",
    "\n",
    "print(\"Model and vectorizer saved successfully!\")\n"
   ]
  },
  {
   "cell_type": "code",
   "execution_count": 101,
   "id": "8088910f",
   "metadata": {},
   "outputs": [],
   "source": [
    "def chatbot_response(text):\n",
    "    input_text = vectorizer.transform([text])\n",
    "    tagsdata = classifier.predict(input_text)[0]\n",
    "    for i in intents:\n",
    "        if i[\"tag\"] == tagsdata:\n",
    "            response = random.choice(i['responses'])\n",
    "            return response"
   ]
  },
  {
   "cell_type": "code",
   "execution_count": 102,
   "id": "38872321",
   "metadata": {},
   "outputs": [
    {
     "name": "stdout",
     "output_type": "stream",
     "text": [
      "Model and vectorizer loaded successfully!\n"
     ]
    }
   ],
   "source": [
    "with open(\"chatbot_model.pkl\", \"rb\") as model_file:\n",
    "    loaded_model = pickle.load(model_file)\n",
    "\n",
    "with open(\"vectorizer.pkl\", \"rb\") as vectorizer_file:\n",
    "    loaded_vectorizer = pickle.load(vectorizer_file)\n",
    "\n",
    "print(\"Model and vectorizer loaded successfully!\")"
   ]
  },
  {
   "cell_type": "code",
   "execution_count": 114,
   "id": "ab2ad797",
   "metadata": {},
   "outputs": [
    {
     "name": "stdout",
     "output_type": "stream",
     "text": [
      "Why don't scientists trust atoms? Because they make up everything!\n"
     ]
    }
   ],
   "source": [
    "user_input = \"joke\"\n",
    "x_test = loaded_vectorizer.transform([user_input])\n",
    "predicted_tag = loaded_model.predict(x_test)[0]\n",
    "for intent in data[\"intents\"]:\n",
    "    if intent[\"tag\"] == predicted_tag:\n",
    "        print(random.choice(intent[\"responses\"]))\n"
   ]
  },
  {
   "cell_type": "code",
   "execution_count": 104,
   "id": "e56c6133",
   "metadata": {},
   "outputs": [
    {
     "name": "stdout",
     "output_type": "stream",
     "text": [
      "You can contact support by emailing navachatbot@gmail.com or calling 7909192967.\n"
     ]
    }
   ],
   "source": [
    "for intent in data[\"intents\"]:\n",
    "    if intent[\"tag\"] == predicted_tag:\n",
    "        print(random.choice(intent[\"responses\"]))"
   ]
  }
 ],
 "metadata": {
  "kernelspec": {
   "display_name": "Python 3",
   "language": "python",
   "name": "python3"
  },
  "language_info": {
   "codemirror_mode": {
    "name": "ipython",
    "version": 3
   },
   "file_extension": ".py",
   "mimetype": "text/x-python",
   "name": "python",
   "nbconvert_exporter": "python",
   "pygments_lexer": "ipython3",
   "version": "3.11.9"
  }
 },
 "nbformat": 4,
 "nbformat_minor": 5
}
